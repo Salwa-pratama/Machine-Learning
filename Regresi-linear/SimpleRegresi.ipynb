{
 "cells": [
  {
   "cell_type": "code",
   "execution_count": null,
   "id": "d166e915",
   "metadata": {},
   "outputs": [],
   "source": [
    "# Read Data Set\n",
    "# Disini kita menggunakan library ( pandas, matplotlib)\n",
    "import pandas as pd\n",
    "import matplotlib.pyplot as plt"
   ]
  },
  {
   "cell_type": "code",
   "execution_count": null,
   "id": "2ee50ef6",
   "metadata": {},
   "outputs": [],
   "source": [
    "# Ini variabel data dari excel\n",
    "dskalori = pd.read_excel(\"data/kaloriberat.xlsx\")\n",
    "print(f\"\"\"# Data dari excel\n",
    "{dskalori}\"\"\")"
   ]
  },
  {
   "cell_type": "code",
   "execution_count": null,
   "id": "6dcf6917",
   "metadata": {},
   "outputs": [],
   "source": [
    "# Ini untuk manggil atribute dari data menggunakan matplotlib\n",
    "plt.scatter(dskalori[\"Kalori\"], dskalori[\"Berat\"])\n",
    "plt.xlabel(\"calories/day (X)\")\n",
    "plt.ylabel(\"Weight (Y)\")\n",
    "plt.title(\"Distribution of body weight and daily calorie data\")\n",
    "plt.show()"
   ]
  },
  {
   "cell_type": "code",
   "execution_count": null,
   "id": "8e829a1d",
   "metadata": {},
   "outputs": [],
   "source": [
    "# Ini untuk seleksi data\n",
    "x = dskalori.iloc[:,[1][0]].values\n",
    "y = dskalori.iloc[:,[0][0]].values\n",
    "print(f\"X values (Calories): {x}\")\n",
    "print(f\"Y values (Body weight): {y}\")"
   ]
  }
 ],
 "metadata": {
  "kernelspec": {
   "display_name": "Python 3",
   "language": "python",
   "name": "python3"
  },
  "language_info": {
   "codemirror_mode": {
    "name": "ipython",
    "version": 3
   },
   "file_extension": ".py",
   "mimetype": "text/x-python",
   "name": "python",
   "nbconvert_exporter": "python",
   "pygments_lexer": "ipython3",
   "version": "3.13.5"
  }
 },
 "nbformat": 4,
 "nbformat_minor": 5
}
